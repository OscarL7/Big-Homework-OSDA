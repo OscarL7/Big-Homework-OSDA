{
 "cells": [
  {
   "cell_type": "code",
   "execution_count": 45,
   "metadata": {},
   "outputs": [],
   "source": [
    "import fcalc\n",
    "import pandas as pd\n",
    "import numpy as np\n",
    "from sklearn.model_selection import train_test_split\n",
    "from sklearn.metrics import accuracy_score, f1_score\n",
    "from sklearn.model_selection import cross_val_score"
   ]
  },
  {
   "cell_type": "markdown",
   "metadata": {},
   "source": [
    "# Titanic Dataset\n"
   ]
  },
  {
   "cell_type": "code",
   "execution_count": 46,
   "metadata": {},
   "outputs": [
    {
     "data": {
      "text/html": [
       "<div>\n",
       "<style scoped>\n",
       "    .dataframe tbody tr th:only-of-type {\n",
       "        vertical-align: middle;\n",
       "    }\n",
       "\n",
       "    .dataframe tbody tr th {\n",
       "        vertical-align: top;\n",
       "    }\n",
       "\n",
       "    .dataframe thead th {\n",
       "        text-align: right;\n",
       "    }\n",
       "</style>\n",
       "<table border=\"1\" class=\"dataframe\">\n",
       "  <thead>\n",
       "    <tr style=\"text-align: right;\">\n",
       "      <th></th>\n",
       "      <th>Survived</th>\n",
       "      <th>Pclass</th>\n",
       "      <th>Sex</th>\n",
       "      <th>Age</th>\n",
       "      <th>SibSp</th>\n",
       "      <th>Parch</th>\n",
       "    </tr>\n",
       "  </thead>\n",
       "  <tbody>\n",
       "    <tr>\n",
       "      <th>0</th>\n",
       "      <td>False</td>\n",
       "      <td>3</td>\n",
       "      <td>0</td>\n",
       "      <td>34.0</td>\n",
       "      <td>0</td>\n",
       "      <td>0</td>\n",
       "    </tr>\n",
       "    <tr>\n",
       "      <th>1</th>\n",
       "      <td>True</td>\n",
       "      <td>3</td>\n",
       "      <td>1</td>\n",
       "      <td>47.0</td>\n",
       "      <td>1</td>\n",
       "      <td>0</td>\n",
       "    </tr>\n",
       "    <tr>\n",
       "      <th>2</th>\n",
       "      <td>False</td>\n",
       "      <td>2</td>\n",
       "      <td>0</td>\n",
       "      <td>62.0</td>\n",
       "      <td>0</td>\n",
       "      <td>0</td>\n",
       "    </tr>\n",
       "    <tr>\n",
       "      <th>3</th>\n",
       "      <td>False</td>\n",
       "      <td>3</td>\n",
       "      <td>0</td>\n",
       "      <td>27.0</td>\n",
       "      <td>0</td>\n",
       "      <td>0</td>\n",
       "    </tr>\n",
       "    <tr>\n",
       "      <th>4</th>\n",
       "      <td>True</td>\n",
       "      <td>3</td>\n",
       "      <td>1</td>\n",
       "      <td>22.0</td>\n",
       "      <td>1</td>\n",
       "      <td>1</td>\n",
       "    </tr>\n",
       "  </tbody>\n",
       "</table>\n",
       "</div>"
      ],
      "text/plain": [
       "   Survived  Pclass  Sex   Age  SibSp  Parch\n",
       "0     False       3    0  34.0      0      0\n",
       "1      True       3    1  47.0      1      0\n",
       "2     False       2    0  62.0      0      0\n",
       "3     False       3    0  27.0      0      0\n",
       "4      True       3    1  22.0      1      1"
      ]
     },
     "execution_count": 46,
     "metadata": {},
     "output_type": "execute_result"
    }
   ],
   "source": [
    "data = pd.read_csv(r'https://raw.githubusercontent.com/OscarL7/Big-Homework-OSDA/main/titanic.csv')\n",
    "data['Sex'] = data['Sex'].map({'male': 0, 'female': 1})\n",
    "data['Embarked'] = data['Embarked'].map({'S': 0, 'C': 1, 'Q': 2})\n",
    "columns_to_drop = ['PassengerId', 'Name', 'Ticket', 'Cabin', 'Fare', 'Embarked']\n",
    "data = data.drop(columns=columns_to_drop)\n",
    "mean_age = data['Age'].mean()\n",
    "\n",
    "# Replace NaN values with the mean age\n",
    "data['Age'].fillna(mean_age, inplace=True)\n",
    "\n",
    "# Round the age values in the column\n",
    "data['Age'] = data['Age'].round()\n",
    "\n",
    "data['Survived'] = [x == 1 for x in data['Survived']]\n",
    "\n",
    "data.head()"
   ]
  },
  {
   "cell_type": "code",
   "execution_count": 47,
   "metadata": {},
   "outputs": [],
   "source": [
    "x1 = data.drop('Survived', axis=1)\n",
    "y1 = data['Survived']\n",
    "\n",
    "x1_train, x1_test, y1_train, y1_test = train_test_split(x1, y1, test_size=0.3, random_state=42)"
   ]
  },
  {
   "cell_type": "code",
   "execution_count": 48,
   "metadata": {},
   "outputs": [],
   "source": [
    "#Binarized Binary Classifier\n",
    "\n",
    "bin_cls = fcalc.classifier.BinarizedBinaryClassifier(x1_train.values, y1_train.to_numpy(), method=\"standard-support\")"
   ]
  },
  {
   "cell_type": "code",
   "execution_count": 49,
   "metadata": {},
   "outputs": [
    {
     "ename": "TypeError",
     "evalue": "ufunc 'bitwise_and' not supported for the input types, and the inputs could not be safely coerced to any supported types according to the casting rule ''safe''",
     "output_type": "error",
     "traceback": [
      "\u001b[1;31m---------------------------------------------------------------------------\u001b[0m",
      "\u001b[1;31mTypeError\u001b[0m                                 Traceback (most recent call last)",
      "\u001b[1;32mc:\\U\\1_S\\1_BH\\FCALC-main\\big_homework.ipynb Cell 6\u001b[0m line \u001b[0;36m1\n\u001b[1;32m----> <a href='vscode-notebook-cell:/c%3A/U/1_S/1_BH/FCALC-main/big_homework.ipynb#W5sZmlsZQ%3D%3D?line=0'>1</a>\u001b[0m bin_cls\u001b[39m.\u001b[39;49mpredict(x1_test\u001b[39m.\u001b[39;49mvalues)\n",
      "File \u001b[1;32mc:\\U\\1_S\\1_BH\\FCALC-main\\fcalc\\classifier.py:51\u001b[0m, in \u001b[0;36mBinarizedBinaryClassifier.predict\u001b[1;34m(self, test)\u001b[0m\n\u001b[0;32m     50\u001b[0m \u001b[39mdef\u001b[39;00m \u001b[39mpredict\u001b[39m(\u001b[39mself\u001b[39m, test):\n\u001b[1;32m---> 51\u001b[0m     \u001b[39mself\u001b[39;49m\u001b[39m.\u001b[39;49mcompute_support(test)\n\u001b[0;32m     52\u001b[0m     \u001b[39mself\u001b[39m\u001b[39m.\u001b[39mpredictions \u001b[39m=\u001b[39m np\u001b[39m.\u001b[39mzeros(\u001b[39mlen\u001b[39m(test))\n\u001b[0;32m     54\u001b[0m     \u001b[39mif\u001b[39;00m \u001b[39mself\u001b[39m\u001b[39m.\u001b[39mmethod \u001b[39m==\u001b[39m \u001b[39m\"\u001b[39m\u001b[39mstandard\u001b[39m\u001b[39m\"\u001b[39m:\n",
      "File \u001b[1;32mc:\\U\\1_S\\1_BH\\FCALC-main\\fcalc\\classifier.py:34\u001b[0m, in \u001b[0;36mBinarizedBinaryClassifier.compute_support\u001b[1;34m(self, test)\u001b[0m\n\u001b[0;32m     31\u001b[0m negative_counter \u001b[39m=\u001b[39m np\u001b[39m.\u001b[39mzeros(shape\u001b[39m=\u001b[39m(\u001b[39mlen\u001b[39m(test), \u001b[39mlen\u001b[39m(train_neg)))\n\u001b[0;32m     33\u001b[0m \u001b[39mfor\u001b[39;00m i \u001b[39min\u001b[39;00m \u001b[39mrange\u001b[39m(\u001b[39mlen\u001b[39m(test)):\n\u001b[1;32m---> 34\u001b[0m     intsec_pos \u001b[39m=\u001b[39m test[i]\u001b[39m.\u001b[39;49mreshape(\u001b[39m1\u001b[39;49m, \u001b[39m-\u001b[39;49m\u001b[39m1\u001b[39;49m) \u001b[39m&\u001b[39;49m train_pos\n\u001b[0;32m     35\u001b[0m     n_support_pos \u001b[39m=\u001b[39m ((intsec_pos \u001b[39m@\u001b[39m (\u001b[39m~\u001b[39mtrain_pos\u001b[39m.\u001b[39mT)) \u001b[39m==\u001b[39m \u001b[39m0\u001b[39m)\u001b[39m.\u001b[39msum(axis\u001b[39m=\u001b[39m\u001b[39m1\u001b[39m)\n\u001b[0;32m     36\u001b[0m     n_counter_pos \u001b[39m=\u001b[39m ((intsec_pos \u001b[39m@\u001b[39m (\u001b[39m~\u001b[39mtrain_neg\u001b[39m.\u001b[39mT)) \u001b[39m==\u001b[39m \u001b[39m0\u001b[39m)\u001b[39m.\u001b[39msum(axis\u001b[39m=\u001b[39m\u001b[39m1\u001b[39m)\n",
      "\u001b[1;31mTypeError\u001b[0m: ufunc 'bitwise_and' not supported for the input types, and the inputs could not be safely coerced to any supported types according to the casting rule ''safe''"
     ]
    }
   ],
   "source": [
    "bin_cls.predict(x1_test.values)"
   ]
  },
  {
   "cell_type": "markdown",
   "metadata": {},
   "source": [
    "## Pattern Binary Classifier"
   ]
  },
  {
   "cell_type": "code",
   "execution_count": 50,
   "metadata": {},
   "outputs": [],
   "source": [
    "x1 = data.drop('Survived', axis=1)\n",
    "y1 = data['Survived']\n",
    "\n",
    "x1_train, x1_test, y1_train, y1_test = train_test_split(x1, y1, test_size=0.3, random_state=42)        "
   ]
  },
  {
   "cell_type": "code",
   "execution_count": 51,
   "metadata": {},
   "outputs": [],
   "source": [
    "# Pattern Binary Classifier\n",
    "\n",
    "pat_cls = fcalc.classifier.PatternBinaryClassifier(x1_train.values, y1_train.to_numpy(), \n",
    "                                             categorical=np.arange(x1_train.shape[1]))   "
   ]
  },
  {
   "cell_type": "code",
   "execution_count": 52,
   "metadata": {},
   "outputs": [],
   "source": [
    "pat_cls.predict(x1_test.values)"
   ]
  },
  {
   "cell_type": "code",
   "execution_count": null,
   "metadata": {},
   "outputs": [
    {
     "name": "stdout",
     "output_type": "stream",
     "text": [
      "1.0\n",
      "1.0\n"
     ]
    }
   ],
   "source": [
    "print(accuracy_score(y1_test, pat_cls.predictions))\n",
    "print(f1_score(y1_test, pat_cls.predictions))"
   ]
  },
  {
   "cell_type": "markdown",
   "metadata": {},
   "source": [
    "# Heart Disease Dataset"
   ]
  },
  {
   "cell_type": "code",
   "execution_count": 56,
   "metadata": {},
   "outputs": [
    {
     "data": {
      "text/html": [
       "<div>\n",
       "<style scoped>\n",
       "    .dataframe tbody tr th:only-of-type {\n",
       "        vertical-align: middle;\n",
       "    }\n",
       "\n",
       "    .dataframe tbody tr th {\n",
       "        vertical-align: top;\n",
       "    }\n",
       "\n",
       "    .dataframe thead th {\n",
       "        text-align: right;\n",
       "    }\n",
       "</style>\n",
       "<table border=\"1\" class=\"dataframe\">\n",
       "  <thead>\n",
       "    <tr style=\"text-align: right;\">\n",
       "      <th></th>\n",
       "      <th>Age</th>\n",
       "      <th>Sex</th>\n",
       "      <th>RestingBP</th>\n",
       "      <th>Cholesterol</th>\n",
       "      <th>MaxHR</th>\n",
       "      <th>HeartDisease</th>\n",
       "    </tr>\n",
       "  </thead>\n",
       "  <tbody>\n",
       "    <tr>\n",
       "      <th>0</th>\n",
       "      <td>40</td>\n",
       "      <td>1</td>\n",
       "      <td>140</td>\n",
       "      <td>289</td>\n",
       "      <td>172</td>\n",
       "      <td>False</td>\n",
       "    </tr>\n",
       "    <tr>\n",
       "      <th>1</th>\n",
       "      <td>49</td>\n",
       "      <td>0</td>\n",
       "      <td>160</td>\n",
       "      <td>180</td>\n",
       "      <td>156</td>\n",
       "      <td>True</td>\n",
       "    </tr>\n",
       "    <tr>\n",
       "      <th>2</th>\n",
       "      <td>37</td>\n",
       "      <td>1</td>\n",
       "      <td>130</td>\n",
       "      <td>283</td>\n",
       "      <td>98</td>\n",
       "      <td>False</td>\n",
       "    </tr>\n",
       "    <tr>\n",
       "      <th>3</th>\n",
       "      <td>48</td>\n",
       "      <td>0</td>\n",
       "      <td>138</td>\n",
       "      <td>214</td>\n",
       "      <td>108</td>\n",
       "      <td>True</td>\n",
       "    </tr>\n",
       "    <tr>\n",
       "      <th>4</th>\n",
       "      <td>54</td>\n",
       "      <td>1</td>\n",
       "      <td>150</td>\n",
       "      <td>195</td>\n",
       "      <td>122</td>\n",
       "      <td>False</td>\n",
       "    </tr>\n",
       "  </tbody>\n",
       "</table>\n",
       "</div>"
      ],
      "text/plain": [
       "   Age  Sex  RestingBP  Cholesterol  MaxHR  HeartDisease\n",
       "0   40    1        140          289    172         False\n",
       "1   49    0        160          180    156          True\n",
       "2   37    1        130          283     98         False\n",
       "3   48    0        138          214    108          True\n",
       "4   54    1        150          195    122         False"
      ]
     },
     "execution_count": 56,
     "metadata": {},
     "output_type": "execute_result"
    }
   ],
   "source": [
    "data2 = pd.read_csv(r'https://raw.githubusercontent.com/OscarL7/Big-Homework-OSDA/main/heart_diseases.csv')\n",
    "columns_to_remove = ['FastingBS', 'RestingECG', 'ExerciseAngina', 'Oldpeak', 'ST_Slope', 'ChestPainType']\n",
    "data2 = data2.drop(columns=columns_to_remove)\n",
    "data2['Sex'] = data2['Sex'].replace({'M': 1, 'F': 0})\n",
    "\n",
    "data2['HeartDisease'] = [x == 1 for x in data2['HeartDisease']]\n",
    "\n",
    "data2.head()"
   ]
  },
  {
   "cell_type": "code",
   "execution_count": null,
   "metadata": {},
   "outputs": [],
   "source": [
    "x2 = data.drop('HeartDisease', axis=1)\n",
    "y2 = data['HeartDisease']\n",
    "\n",
    "x2_train, x2_test, y2_train, y2_test = train_test_split(x2, y2, test_size=0.3, random_state=42)"
   ]
  },
  {
   "cell_type": "code",
   "execution_count": null,
   "metadata": {},
   "outputs": [],
   "source": [
    "# Binarized Binary Classifier\n",
    "\n",
    "bin_cls = fcalc.classifier.BinarizedBinaryClassifier(x2_train.values, y2_train.to_numpy(), method=\"standard-support\")"
   ]
  },
  {
   "cell_type": "code",
   "execution_count": null,
   "metadata": {},
   "outputs": [],
   "source": [
    "bin_cls.predict(x2_test.values)"
   ]
  },
  {
   "cell_type": "code",
   "execution_count": null,
   "metadata": {},
   "outputs": [
    {
     "ename": "AttributeError",
     "evalue": "'BinarizedBinaryClassifier' object has no attribute 'predictions'",
     "output_type": "error",
     "traceback": [
      "\u001b[1;31m---------------------------------------------------------------------------\u001b[0m",
      "\u001b[1;31mAttributeError\u001b[0m                            Traceback (most recent call last)",
      "\u001b[1;32mc:\\U\\1_S\\1_BH\\FCALC-main\\big_homework.ipynb Cell 17\u001b[0m line \u001b[0;36m1\n\u001b[1;32m----> <a href='vscode-notebook-cell:/c%3A/U/1_S/1_BH/FCALC-main/big_homework.ipynb#X25sZmlsZQ%3D%3D?line=0'>1</a>\u001b[0m \u001b[39mprint\u001b[39m(accuracy_score(y2_test, bin_cls\u001b[39m.\u001b[39;49mpredictions))\n\u001b[0;32m      <a href='vscode-notebook-cell:/c%3A/U/1_S/1_BH/FCALC-main/big_homework.ipynb#X25sZmlsZQ%3D%3D?line=1'>2</a>\u001b[0m \u001b[39mprint\u001b[39m(f1_score(y2_test, bin_cls\u001b[39m.\u001b[39mpredictions))\n",
      "\u001b[1;31mAttributeError\u001b[0m: 'BinarizedBinaryClassifier' object has no attribute 'predictions'"
     ]
    }
   ],
   "source": [
    "print(accuracy_score(y2_test, bin_cls.predictions))\n",
    "print(f1_score(y2_test, bin_cls.predictions))"
   ]
  },
  {
   "cell_type": "code",
   "execution_count": null,
   "metadata": {},
   "outputs": [],
   "source": []
  },
  {
   "cell_type": "markdown",
   "metadata": {},
   "source": [
    "# Pattern Binary Classifier"
   ]
  },
  {
   "cell_type": "code",
   "execution_count": null,
   "metadata": {},
   "outputs": [],
   "source": [
    "x2 = data.drop('HeartDisease', axis=1)\n",
    "y2 = data['HeartDisease']\n",
    "\n",
    "x2_train, x2_test, y2_train, y2_test = train_test_split(x2, y2, test_size=0.3, random_state=42)"
   ]
  },
  {
   "cell_type": "code",
   "execution_count": null,
   "metadata": {},
   "outputs": [],
   "source": [
    "# Pattern Binary Classifier\n",
    "\n",
    "pat_cls = fcalc.classifier.PatternBinaryClassifier(x2_train.values, y2_train.to_numpy())"
   ]
  },
  {
   "cell_type": "code",
   "execution_count": null,
   "metadata": {},
   "outputs": [],
   "source": [
    "pat_cls.predict(x2_test.values)"
   ]
  },
  {
   "cell_type": "code",
   "execution_count": null,
   "metadata": {},
   "outputs": [
    {
     "name": "stdout",
     "output_type": "stream",
     "text": [
      "accuracy: 0.7355\n",
      "f1 score: 0.7668\n"
     ]
    }
   ],
   "source": [
    "print(\"accuracy:\",round(accuracy_score(y2_test, pat_cls.predictions),4))\n",
    "print(\"f1 score:\",round(f1_score(y2_test, pat_cls.predictions),4))"
   ]
  },
  {
   "cell_type": "markdown",
   "metadata": {},
   "source": [
    "# Breast Cancer Dataset"
   ]
  },
  {
   "cell_type": "code",
   "execution_count": null,
   "metadata": {},
   "outputs": [
    {
     "data": {
      "text/html": [
       "<div>\n",
       "<style scoped>\n",
       "    .dataframe tbody tr th:only-of-type {\n",
       "        vertical-align: middle;\n",
       "    }\n",
       "\n",
       "    .dataframe tbody tr th {\n",
       "        vertical-align: top;\n",
       "    }\n",
       "\n",
       "    .dataframe thead th {\n",
       "        text-align: right;\n",
       "    }\n",
       "</style>\n",
       "<table border=\"1\" class=\"dataframe\">\n",
       "  <thead>\n",
       "    <tr style=\"text-align: right;\">\n",
       "      <th></th>\n",
       "      <th>Unnamed: 0</th>\n",
       "      <th>x.radius_mean</th>\n",
       "      <th>x.texture_mean</th>\n",
       "      <th>x.perimeter_mean</th>\n",
       "      <th>x.area_mean</th>\n",
       "      <th>x.smoothness_mean</th>\n",
       "      <th>x.compactness_mean</th>\n",
       "      <th>x.concavity_mean</th>\n",
       "      <th>x.concave_pts_mean</th>\n",
       "      <th>x.symmetry_mean</th>\n",
       "      <th>...</th>\n",
       "      <th>x.texture_worst</th>\n",
       "      <th>x.perimeter_worst</th>\n",
       "      <th>x.area_worst</th>\n",
       "      <th>x.smoothness_worst</th>\n",
       "      <th>x.compactness_worst</th>\n",
       "      <th>x.concavity_worst</th>\n",
       "      <th>x.concave_pts_worst</th>\n",
       "      <th>x.symmetry_worst</th>\n",
       "      <th>x.fractal_dim_worst</th>\n",
       "      <th>y</th>\n",
       "    </tr>\n",
       "  </thead>\n",
       "  <tbody>\n",
       "    <tr>\n",
       "      <th>0</th>\n",
       "      <td>1</td>\n",
       "      <td>13.540</td>\n",
       "      <td>14.36</td>\n",
       "      <td>87.46</td>\n",
       "      <td>566.3</td>\n",
       "      <td>0.09779</td>\n",
       "      <td>0.08129</td>\n",
       "      <td>0.06664</td>\n",
       "      <td>0.047810</td>\n",
       "      <td>0.1885</td>\n",
       "      <td>...</td>\n",
       "      <td>19.26</td>\n",
       "      <td>99.70</td>\n",
       "      <td>711.2</td>\n",
       "      <td>0.14400</td>\n",
       "      <td>0.17730</td>\n",
       "      <td>0.23900</td>\n",
       "      <td>0.12880</td>\n",
       "      <td>0.2977</td>\n",
       "      <td>0.07259</td>\n",
       "      <td>False</td>\n",
       "    </tr>\n",
       "    <tr>\n",
       "      <th>1</th>\n",
       "      <td>2</td>\n",
       "      <td>13.080</td>\n",
       "      <td>15.71</td>\n",
       "      <td>85.63</td>\n",
       "      <td>520.0</td>\n",
       "      <td>0.10750</td>\n",
       "      <td>0.12700</td>\n",
       "      <td>0.04568</td>\n",
       "      <td>0.031100</td>\n",
       "      <td>0.1967</td>\n",
       "      <td>...</td>\n",
       "      <td>20.49</td>\n",
       "      <td>96.09</td>\n",
       "      <td>630.5</td>\n",
       "      <td>0.13120</td>\n",
       "      <td>0.27760</td>\n",
       "      <td>0.18900</td>\n",
       "      <td>0.07283</td>\n",
       "      <td>0.3184</td>\n",
       "      <td>0.08183</td>\n",
       "      <td>False</td>\n",
       "    </tr>\n",
       "    <tr>\n",
       "      <th>2</th>\n",
       "      <td>3</td>\n",
       "      <td>9.504</td>\n",
       "      <td>12.44</td>\n",
       "      <td>60.34</td>\n",
       "      <td>273.9</td>\n",
       "      <td>0.10240</td>\n",
       "      <td>0.06492</td>\n",
       "      <td>0.02956</td>\n",
       "      <td>0.020760</td>\n",
       "      <td>0.1815</td>\n",
       "      <td>...</td>\n",
       "      <td>15.66</td>\n",
       "      <td>65.13</td>\n",
       "      <td>314.9</td>\n",
       "      <td>0.13240</td>\n",
       "      <td>0.11480</td>\n",
       "      <td>0.08867</td>\n",
       "      <td>0.06227</td>\n",
       "      <td>0.2450</td>\n",
       "      <td>0.07773</td>\n",
       "      <td>False</td>\n",
       "    </tr>\n",
       "    <tr>\n",
       "      <th>3</th>\n",
       "      <td>4</td>\n",
       "      <td>13.030</td>\n",
       "      <td>18.42</td>\n",
       "      <td>82.61</td>\n",
       "      <td>523.8</td>\n",
       "      <td>0.08983</td>\n",
       "      <td>0.03766</td>\n",
       "      <td>0.02562</td>\n",
       "      <td>0.029230</td>\n",
       "      <td>0.1467</td>\n",
       "      <td>...</td>\n",
       "      <td>22.81</td>\n",
       "      <td>84.46</td>\n",
       "      <td>545.9</td>\n",
       "      <td>0.09701</td>\n",
       "      <td>0.04619</td>\n",
       "      <td>0.04833</td>\n",
       "      <td>0.05013</td>\n",
       "      <td>0.1987</td>\n",
       "      <td>0.06169</td>\n",
       "      <td>False</td>\n",
       "    </tr>\n",
       "    <tr>\n",
       "      <th>4</th>\n",
       "      <td>5</td>\n",
       "      <td>8.196</td>\n",
       "      <td>16.84</td>\n",
       "      <td>51.71</td>\n",
       "      <td>201.9</td>\n",
       "      <td>0.08600</td>\n",
       "      <td>0.05943</td>\n",
       "      <td>0.01588</td>\n",
       "      <td>0.005917</td>\n",
       "      <td>0.1769</td>\n",
       "      <td>...</td>\n",
       "      <td>21.96</td>\n",
       "      <td>57.26</td>\n",
       "      <td>242.2</td>\n",
       "      <td>0.12970</td>\n",
       "      <td>0.13570</td>\n",
       "      <td>0.06880</td>\n",
       "      <td>0.02564</td>\n",
       "      <td>0.3105</td>\n",
       "      <td>0.07409</td>\n",
       "      <td>False</td>\n",
       "    </tr>\n",
       "  </tbody>\n",
       "</table>\n",
       "<p>5 rows × 32 columns</p>\n",
       "</div>"
      ],
      "text/plain": [
       "   Unnamed: 0  x.radius_mean  x.texture_mean  x.perimeter_mean  x.area_mean   \n",
       "0           1         13.540           14.36             87.46        566.3  \\\n",
       "1           2         13.080           15.71             85.63        520.0   \n",
       "2           3          9.504           12.44             60.34        273.9   \n",
       "3           4         13.030           18.42             82.61        523.8   \n",
       "4           5          8.196           16.84             51.71        201.9   \n",
       "\n",
       "   x.smoothness_mean  x.compactness_mean  x.concavity_mean   \n",
       "0            0.09779             0.08129           0.06664  \\\n",
       "1            0.10750             0.12700           0.04568   \n",
       "2            0.10240             0.06492           0.02956   \n",
       "3            0.08983             0.03766           0.02562   \n",
       "4            0.08600             0.05943           0.01588   \n",
       "\n",
       "   x.concave_pts_mean  x.symmetry_mean  ...  x.texture_worst   \n",
       "0            0.047810           0.1885  ...            19.26  \\\n",
       "1            0.031100           0.1967  ...            20.49   \n",
       "2            0.020760           0.1815  ...            15.66   \n",
       "3            0.029230           0.1467  ...            22.81   \n",
       "4            0.005917           0.1769  ...            21.96   \n",
       "\n",
       "   x.perimeter_worst  x.area_worst  x.smoothness_worst  x.compactness_worst   \n",
       "0              99.70         711.2             0.14400              0.17730  \\\n",
       "1              96.09         630.5             0.13120              0.27760   \n",
       "2              65.13         314.9             0.13240              0.11480   \n",
       "3              84.46         545.9             0.09701              0.04619   \n",
       "4              57.26         242.2             0.12970              0.13570   \n",
       "\n",
       "   x.concavity_worst  x.concave_pts_worst  x.symmetry_worst   \n",
       "0            0.23900              0.12880            0.2977  \\\n",
       "1            0.18900              0.07283            0.3184   \n",
       "2            0.08867              0.06227            0.2450   \n",
       "3            0.04833              0.05013            0.1987   \n",
       "4            0.06880              0.02564            0.3105   \n",
       "\n",
       "   x.fractal_dim_worst      y  \n",
       "0              0.07259  False  \n",
       "1              0.08183  False  \n",
       "2              0.07773  False  \n",
       "3              0.06169  False  \n",
       "4              0.07409  False  \n",
       "\n",
       "[5 rows x 32 columns]"
      ]
     },
     "execution_count": 38,
     "metadata": {},
     "output_type": "execute_result"
    }
   ],
   "source": [
    "data3 = pd.read_csv(r'https://raw.githubusercontent.com/OscarL7/Big-Homework-OSDA/main/breast_cancer.csv')\n",
    "data3['y'] = [x == 'M' for x in data3['y']]\n",
    "data3.head()"
   ]
  },
  {
   "cell_type": "code",
   "execution_count": null,
   "metadata": {},
   "outputs": [],
   "source": [
    "x3 = data3.drop('y', axis=1)\n",
    "y3 = data3['y']\n",
    "\n",
    "x3_train, x3_test, y3_train, y3_test = train_test_split(x3, y3, test_size=0.3, random_state=42)"
   ]
  },
  {
   "cell_type": "code",
   "execution_count": null,
   "metadata": {},
   "outputs": [],
   "source": [
    "# Binarized Binary Classifier\n",
    "\n",
    "bin_cls = fcalc.classifier.BinarizedBinaryClassifier(x3_train.values, y3_train.to_numpy(), method=\"standard-support\")"
   ]
  },
  {
   "cell_type": "code",
   "execution_count": null,
   "metadata": {},
   "outputs": [
    {
     "ename": "TypeError",
     "evalue": "ufunc 'bitwise_and' not supported for the input types, and the inputs could not be safely coerced to any supported types according to the casting rule ''safe''",
     "output_type": "error",
     "traceback": [
      "\u001b[1;31m---------------------------------------------------------------------------\u001b[0m",
      "\u001b[1;31mTypeError\u001b[0m                                 Traceback (most recent call last)",
      "\u001b[1;32mc:\\U\\1_S\\1_BH\\FCALC-main\\big_homework.ipynb Cell 28\u001b[0m line \u001b[0;36m1\n\u001b[1;32m----> <a href='vscode-notebook-cell:/c%3A/U/1_S/1_BH/FCALC-main/big_homework.ipynb#X42sZmlsZQ%3D%3D?line=0'>1</a>\u001b[0m bin_cls\u001b[39m.\u001b[39;49mpredict(x3_test\u001b[39m.\u001b[39;49mvalues)\n",
      "File \u001b[1;32mc:\\U\\1_S\\1_BH\\FCALC-main\\fcalc\\classifier.py:51\u001b[0m, in \u001b[0;36mBinarizedBinaryClassifier.predict\u001b[1;34m(self, test)\u001b[0m\n\u001b[0;32m     50\u001b[0m \u001b[39mdef\u001b[39;00m \u001b[39mpredict\u001b[39m(\u001b[39mself\u001b[39m, test):\n\u001b[1;32m---> 51\u001b[0m     \u001b[39mself\u001b[39;49m\u001b[39m.\u001b[39;49mcompute_support(test)\n\u001b[0;32m     52\u001b[0m     \u001b[39mself\u001b[39m\u001b[39m.\u001b[39mpredictions \u001b[39m=\u001b[39m np\u001b[39m.\u001b[39mzeros(\u001b[39mlen\u001b[39m(test))\n\u001b[0;32m     54\u001b[0m     \u001b[39mif\u001b[39;00m \u001b[39mself\u001b[39m\u001b[39m.\u001b[39mmethod \u001b[39m==\u001b[39m \u001b[39m\"\u001b[39m\u001b[39mstandard\u001b[39m\u001b[39m\"\u001b[39m:\n",
      "File \u001b[1;32mc:\\U\\1_S\\1_BH\\FCALC-main\\fcalc\\classifier.py:34\u001b[0m, in \u001b[0;36mBinarizedBinaryClassifier.compute_support\u001b[1;34m(self, test)\u001b[0m\n\u001b[0;32m     31\u001b[0m negative_counter \u001b[39m=\u001b[39m np\u001b[39m.\u001b[39mzeros(shape\u001b[39m=\u001b[39m(\u001b[39mlen\u001b[39m(test), \u001b[39mlen\u001b[39m(train_neg)))\n\u001b[0;32m     33\u001b[0m \u001b[39mfor\u001b[39;00m i \u001b[39min\u001b[39;00m \u001b[39mrange\u001b[39m(\u001b[39mlen\u001b[39m(test)):\n\u001b[1;32m---> 34\u001b[0m     intsec_pos \u001b[39m=\u001b[39m test[i]\u001b[39m.\u001b[39;49mreshape(\u001b[39m1\u001b[39;49m, \u001b[39m-\u001b[39;49m\u001b[39m1\u001b[39;49m) \u001b[39m&\u001b[39;49m train_pos\n\u001b[0;32m     35\u001b[0m     n_support_pos \u001b[39m=\u001b[39m ((intsec_pos \u001b[39m@\u001b[39m (\u001b[39m~\u001b[39mtrain_pos\u001b[39m.\u001b[39mT)) \u001b[39m==\u001b[39m \u001b[39m0\u001b[39m)\u001b[39m.\u001b[39msum(axis\u001b[39m=\u001b[39m\u001b[39m1\u001b[39m)\n\u001b[0;32m     36\u001b[0m     n_counter_pos \u001b[39m=\u001b[39m ((intsec_pos \u001b[39m@\u001b[39m (\u001b[39m~\u001b[39mtrain_neg\u001b[39m.\u001b[39mT)) \u001b[39m==\u001b[39m \u001b[39m0\u001b[39m)\u001b[39m.\u001b[39msum(axis\u001b[39m=\u001b[39m\u001b[39m1\u001b[39m)\n",
      "\u001b[1;31mTypeError\u001b[0m: ufunc 'bitwise_and' not supported for the input types, and the inputs could not be safely coerced to any supported types according to the casting rule ''safe''"
     ]
    }
   ],
   "source": [
    "bin_cls.predict(x3_test.values)"
   ]
  },
  {
   "cell_type": "code",
   "execution_count": null,
   "metadata": {},
   "outputs": [],
   "source": []
  },
  {
   "cell_type": "markdown",
   "metadata": {},
   "source": [
    "### Pattern Binary Classifier"
   ]
  },
  {
   "cell_type": "code",
   "execution_count": null,
   "metadata": {},
   "outputs": [],
   "source": [
    "x3 = data3.drop('y', axis=1)\n",
    "y3 = data3['y']\n",
    "\n",
    "x3_train, x3_test, y3_train, y3_test = train_test_split(x3, y3, test_size=0.3, random_state=42)"
   ]
  },
  {
   "cell_type": "code",
   "execution_count": null,
   "metadata": {},
   "outputs": [],
   "source": [
    "# Pattern Binary Classifier\n",
    "pat_cls = fcalc.classifier.PatternBinaryClassifier(x3_train.values, y3_train.to_numpy(), \n",
    "                                             categorical=np.arange(x3_train.shape[1]))"
   ]
  },
  {
   "cell_type": "code",
   "execution_count": null,
   "metadata": {},
   "outputs": [],
   "source": [
    "pat_cls.predict(x3_test.values)"
   ]
  },
  {
   "cell_type": "code",
   "execution_count": null,
   "metadata": {},
   "outputs": [
    {
     "name": "stdout",
     "output_type": "stream",
     "text": [
      "0.7017543859649122\n",
      "0.459096459096459\n"
     ]
    }
   ],
   "source": [
    "print(accuracy_score(y3_test, pat_cls.predictions))\n",
    "print(f1_score(y3_test, pat_cls.predictions, average = 'macro'))"
   ]
  }
 ],
 "metadata": {
  "kernelspec": {
   "display_name": "env_rw",
   "language": "python",
   "name": "python3"
  },
  "language_info": {
   "codemirror_mode": {
    "name": "ipython",
    "version": 3
   },
   "file_extension": ".py",
   "mimetype": "text/x-python",
   "name": "python",
   "nbconvert_exporter": "python",
   "pygments_lexer": "ipython3",
   "version": "3.9.6"
  }
 },
 "nbformat": 4,
 "nbformat_minor": 2
}
